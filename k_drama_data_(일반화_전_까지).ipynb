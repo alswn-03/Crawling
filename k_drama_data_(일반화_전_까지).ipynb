{
  "nbformat": 4,
  "nbformat_minor": 0,
  "metadata": {
    "colab": {
      "provenance": [],
      "authorship_tag": "ABX9TyOALi3p0Uf/rkX7qjFOEF98",
      "include_colab_link": true
    },
    "kernelspec": {
      "name": "python3",
      "display_name": "Python 3"
    },
    "language_info": {
      "name": "python"
    }
  },
  "cells": [
    {
      "cell_type": "markdown",
      "metadata": {
        "id": "view-in-github",
        "colab_type": "text"
      },
      "source": [
        "<a href=\"https://colab.research.google.com/github/alswn-03/Crawling/blob/main/k_drama_data_(%EC%9D%BC%EB%B0%98%ED%99%94_%EC%A0%84_%EA%B9%8C%EC%A7%80).ipynb\" target=\"_parent\"><img src=\"https://colab.research.google.com/assets/colab-badge.svg\" alt=\"Open In Colab\"/></a>"
      ]
    },
    {
      "cell_type": "markdown",
      "source": [
        "K-DRAMA 데이터 수집\n",
        "(제목, 평점, 장르, 제제, 배우, 방영 요일 등 + ost 리스너 수)\n",
        "\n",
        "데이터 출처 : (캐글에서 다른 분이 쓰신 사이트 찾음)\n",
        "https://mydramalist.com/shows/top_korean_dramas?page=1.\n",
        "\n",
        "=> 공통 태그로 드라마 추천\n",
        "\n",
        "=> 드라마 ost 데이터 랑도 연결지어보고 싶음."
      ],
      "metadata": {
        "id": "wVlry17vfzeP"
      }
    },
    {
      "cell_type": "markdown",
      "source": [
        "웹 크롤링"
      ],
      "metadata": {
        "id": "3WRzQ9dofXuz"
      }
    },
    {
      "cell_type": "code",
      "execution_count": null,
      "metadata": {
        "id": "Wl0EdNhLcsNS"
      },
      "outputs": [],
      "source": [
        "import requests # html 소스코드를 불러오는 라이브러리리\n",
        "from bs4 import BeautifulSoup # html 소스코드를 분석하여 원하는 정보를 추출할 수 있게(파싱) 도와주는 라이브러리\n",
        "import time"
      ]
    },
    {
      "cell_type": "markdown",
      "source": [
        "웹 크롤링 1. HTML 소스코드 불러오기"
      ],
      "metadata": {
        "id": "L7uQWYFLfOVL"
      }
    },
    {
      "cell_type": "code",
      "source": [
        "html_list=['https://mydramalist.com/shows/top_korean_dramas?page=1', 'https://mydramalist.com/shows/top_korean_dramas?page=2', 'https://mydramalist.com/shows/top_korean_dramas?page=3', 'https://mydramalist.com/shows/top_korean_dramas?page=4', 'https://mydramalist.com/shows/top_korean_dramas?page=5']"
      ],
      "metadata": {
        "id": "1FKc9X0Dc1Bl"
      },
      "execution_count": null,
      "outputs": []
    },
    {
      "cell_type": "code",
      "source": [
        "# 100개의 드라마 링크의 태그 리스트\n",
        "href_tag_list=[]"
      ],
      "metadata": {
        "id": "CjGU9t705DQH"
      },
      "execution_count": null,
      "outputs": []
    },
    {
      "cell_type": "code",
      "source": [
        "# HTML 소스코드 불러와서 파싱까지 시키는 함수(requests, BeautifulSoup)\n",
        "def get_soup(url):\n",
        "  res=requests.get(url) # url 주소에 해당하는 소스코드를 불러옴.\n",
        "\n",
        "  time.sleep(1)\n",
        "\n",
        "  html=res.text # html소스코드를 텍스트 데이터 형태로 변환\n",
        "\n",
        "  soup=BeautifulSoup(html, 'lxml')\n",
        "  return soup"
      ],
      "metadata": {
        "id": "Y5o3xEm1hDl7"
      },
      "execution_count": null,
      "outputs": []
    },
    {
      "cell_type": "code",
      "source": [
        "for url in html_list:\n",
        "  soup=get_soup(url)\n",
        "\n",
        "  url_list=soup.find('div', attrs={'class':'m-t nav-active-border b-primary'}).find_all('h6', attrs={'class':'text-primary title'}) # find_all 은 리스트로 반환\n",
        "  href_tag_list = href_tag_list + url_list\n",
        "\n",
        "href_tag_list"
      ],
      "metadata": {
        "colab": {
          "base_uri": "https://localhost:8080/"
        },
        "id": "uhVEM9Mgc1fz",
        "outputId": "ce01f06a-41a9-465f-acca-b72cc87b5c27"
      },
      "execution_count": null,
      "outputs": [
        {
          "output_type": "execute_result",
          "data": {
            "text/plain": [
              "[<h6 class=\"text-primary title\"><a href=\"/49231-move-to-heaven\">Move to Heaven</a>\n",
              " <a class=\"btn simple btn-manage-list\" data-id=\"49231\" data-stats=\"mylist:49231\" rel=\"nofollow\"><span><i class=\"far fa-plus\"></i></span></a>\n",
              " </h6>,\n",
              " <h6 class=\"text-primary title\"><a href=\"/702267-weak-hero\">Weak Hero Class 1</a>\n",
              " <a class=\"btn simple btn-manage-list\" data-id=\"702267\" data-stats=\"mylist:702267\" rel=\"nofollow\"><span><i class=\"far fa-plus\"></i></span></a>\n",
              " </h6>,\n",
              " <h6 class=\"text-primary title\"><a href=\"/57173-hospital-playlist-2\">Hospital Playlist Season 2</a>\n",
              " <a class=\"btn simple btn-manage-list\" data-id=\"57173\" data-stats=\"mylist:57173\" rel=\"nofollow\"><span><i class=\"far fa-plus\"></i></span></a>\n",
              " </h6>,\n",
              " <h6 class=\"text-primary title\"><a href=\"/54625-flower-of-evil\">Flower of Evil</a>\n",
              " <a class=\"btn simple btn-manage-list\" data-id=\"54625\" data-stats=\"mylist:54625\" rel=\"nofollow\"><span><i class=\"far fa-plus\"></i></span></a>\n",
              " </h6>,\n",
              " <h6 class=\"text-primary title\"><a href=\"/36269-doctor-playbook\">Hospital Playlist</a>\n",
              " <a class=\"btn simple btn-manage-list\" data-id=\"36269\" data-stats=\"mylist:36269\" rel=\"nofollow\"><span><i class=\"far fa-plus\"></i></span></a>\n",
              " </h6>,\n",
              " <h6 class=\"text-primary title\"><a href=\"/52939-can-this-person-be-translated\">Alchemy of Souls</a>\n",
              " <a class=\"btn simple btn-manage-list\" data-id=\"52939\" data-stats=\"mylist:52939\" rel=\"nofollow\"><span><i class=\"far fa-plus\"></i></span></a>\n",
              " </h6>,\n",
              " <h6 class=\"text-primary title\"><a href=\"/13544-reply-1988\">Reply 1988</a>\n",
              " <a class=\"btn simple btn-manage-list\" data-id=\"13544\" data-stats=\"mylist:13544\" rel=\"nofollow\"><span><i class=\"far fa-plus\"></i></span></a>\n",
              " </h6>,\n",
              " <h6 class=\"text-primary title\"><a href=\"/25172-my-ajusshi\">My Mister</a>\n",
              " <a class=\"btn simple btn-manage-list\" data-id=\"25172\" data-stats=\"mylist:25172\" rel=\"nofollow\"><span><i class=\"far fa-plus\"></i></span></a>\n",
              " </h6>,\n",
              " <h6 class=\"text-primary title\"><a href=\"/705857-umbrella\">Under the Queen's Umbrella</a>\n",
              " <a class=\"btn simple btn-manage-list\" data-id=\"705857\" data-stats=\"mylist:705857\" rel=\"nofollow\"><span><i class=\"far fa-plus\"></i></span></a>\n",
              " </h6>,\n",
              " <h6 class=\"text-primary title\"><a href=\"/22624-wise-prison-life\">Prison Playbook</a>\n",
              " <a class=\"btn simple btn-manage-list\" data-id=\"22624\" data-stats=\"mylist:22624\" rel=\"nofollow\"><span><i class=\"far fa-plus\"></i></span></a>\n",
              " </h6>,\n",
              " <h6 class=\"text-primary title\"><a href=\"/733261-alchemy-of-souls-part-2\">Alchemy of Souls Season 2: Light and Shadow</a>\n",
              " <a class=\"btn simple btn-manage-list\" data-id=\"733261\" data-stats=\"mylist:733261\" rel=\"nofollow\"><span><i class=\"far fa-plus\"></i></span></a>\n",
              " </h6>,\n",
              " <h6 class=\"text-primary title\"><a href=\"/58365-queen-cheorin\">Mr. Queen</a>\n",
              " <a class=\"btn simple btn-manage-list\" data-id=\"58365\" data-stats=\"mylist:58365\" rel=\"nofollow\"><span><i class=\"far fa-plus\"></i></span></a>\n",
              " </h6>,\n",
              " <h6 class=\"text-primary title\"><a href=\"/21308-mother\">Mother</a>\n",
              " <a class=\"btn simple btn-manage-list\" data-id=\"21308\" data-stats=\"mylist:21308\" rel=\"nofollow\"><span><i class=\"far fa-plus\"></i></span></a>\n",
              " </h6>,\n",
              " <h6 class=\"text-primary title\"><a href=\"/705723-strange-lawyer-woo-young-woo\">Extraordinary Attorney Woo</a>\n",
              " <a class=\"btn simple btn-manage-list\" data-id=\"705723\" data-stats=\"mylist:705723\" rel=\"nofollow\"><span><i class=\"far fa-plus\"></i></span></a>\n",
              " </h6>,\n",
              " <h6 class=\"text-primary title\"><a href=\"/35729-emergency-lands-of-love\">Crash Landing on You</a>\n",
              " <a class=\"btn simple btn-manage-list\" data-id=\"35729\" data-stats=\"mylist:35729\" rel=\"nofollow\"><span><i class=\"far fa-plus\"></i></span></a>\n",
              " </h6>,\n",
              " <h6 class=\"text-primary title\"><a href=\"/59381-navillera\">Navillera</a>\n",
              " <a class=\"btn simple btn-manage-list\" data-id=\"59381\" data-stats=\"mylist:59381\" rel=\"nofollow\"><span><i class=\"far fa-plus\"></i></span></a>\n",
              " </h6>,\n",
              " <h6 class=\"text-primary title\"><a href=\"/61371-vincenzo\">Vincenzo</a>\n",
              " <a class=\"btn simple btn-manage-list\" data-id=\"61371\" data-stats=\"mylist:61371\" rel=\"nofollow\"><span><i class=\"far fa-plus\"></i></span></a>\n",
              " </h6>,\n",
              " <h6 class=\"text-primary title\"><a href=\"/49865-psycho-but-it-s-okay\">It's Okay to Not Be Okay</a>\n",
              " <a class=\"btn simple btn-manage-list\" data-id=\"49865\" data-stats=\"mylist:49865\" rel=\"nofollow\"><span><i class=\"far fa-plus\"></i></span></a>\n",
              " </h6>,\n",
              " <h6 class=\"text-primary title\"><a href=\"/13239-signal\">Signal</a>\n",
              " <a class=\"btn simple btn-manage-list\" data-id=\"13239\" data-stats=\"mylist:13239\" rel=\"nofollow\"><span><i class=\"far fa-plus\"></i></span></a>\n",
              " </h6>,\n",
              " <h6 class=\"text-primary title\"><a href=\"/32220-kingdom-2\">Kingdom Season 2</a>\n",
              " <a class=\"btn simple btn-manage-list\" data-id=\"32220\" data-stats=\"mylist:32220\" rel=\"nofollow\"><span><i class=\"far fa-plus\"></i></span></a>\n",
              " </h6>,\n",
              " <h6 class=\"text-primary title\"><a href=\"/690709-happiness\">Happiness</a>\n",
              " <a class=\"btn simple btn-manage-list\" data-id=\"690709\" data-stats=\"mylist:690709\" rel=\"nofollow\"><span><i class=\"far fa-plus\"></i></span></a>\n",
              " </h6>,\n",
              " <h6 class=\"text-primary title\"><a href=\"/23920-mr.-sunshine\">Mr. Sunshine</a>\n",
              " <a class=\"btn simple btn-manage-list\" data-id=\"23920\" data-stats=\"mylist:23920\" rel=\"nofollow\"><span><i class=\"far fa-plus\"></i></span></a>\n",
              " </h6>,\n",
              " <h6 class=\"text-primary title\"><a href=\"/685237-untitled-kim-eun-sook-project\">The Glory</a>\n",
              " <a class=\"btn simple btn-manage-list\" data-id=\"685237\" data-stats=\"mylist:685237\" rel=\"nofollow\"><span><i class=\"far fa-plus\"></i></span></a>\n",
              " </h6>,\n",
              " <h6 class=\"text-primary title\"><a href=\"/30740-sky-castle\">SKY Castle</a>\n",
              " <a class=\"btn simple btn-manage-list\" data-id=\"30740\" data-stats=\"mylist:30740\" rel=\"nofollow\"><span><i class=\"far fa-plus\"></i></span></a>\n",
              " </h6>,\n",
              " <h6 class=\"text-primary title\"><a href=\"/10814-healer\">Healer</a>\n",
              " <a class=\"btn simple btn-manage-list\" data-id=\"10814\" data-stats=\"mylist:10814\" rel=\"nofollow\"><span><i class=\"far fa-plus\"></i></span></a>\n",
              " </h6>,\n",
              " <h6 class=\"text-primary title\"><a href=\"/695963-tomorrow\">Tomorrow</a>\n",
              " <a class=\"btn simple btn-manage-list\" data-id=\"695963\" data-stats=\"mylist:695963\" rel=\"nofollow\"><span><i class=\"far fa-plus\"></i></span></a>\n",
              " </h6>,\n",
              " <h6 class=\"text-primary title\"><a href=\"/61399-dress-sleeved-red\">The Red Sleeve</a>\n",
              " <a class=\"btn simple btn-manage-list\" data-id=\"61399\" data-stats=\"mylist:61399\" rel=\"nofollow\"><span><i class=\"far fa-plus\"></i></span></a>\n",
              " </h6>,\n",
              " <h6 class=\"text-primary title\"><a href=\"/58953-mouse\">Mouse</a>\n",
              " <a class=\"btn simple btn-manage-list\" data-id=\"58953\" data-stats=\"mylist:58953\" rel=\"nofollow\"><span><i class=\"far fa-plus\"></i></span></a>\n",
              " </h6>,\n",
              " <h6 class=\"text-primary title\"><a href=\"/21934-stranger\">Stranger</a>\n",
              " <a class=\"btn simple btn-manage-list\" data-id=\"21934\" data-stats=\"mylist:21934\" rel=\"nofollow\"><span><i class=\"far fa-plus\"></i></span></a>\n",
              " </h6>,\n",
              " <h6 class=\"text-primary title\"><a href=\"/695149-twenty-five-twenty-one\">Twenty-Five Twenty-One</a>\n",
              " <a class=\"btn simple btn-manage-list\" data-id=\"695149\" data-stats=\"mylist:695149\" rel=\"nofollow\"><span><i class=\"far fa-plus\"></i></span></a>\n",
              " </h6>,\n",
              " <h6 class=\"text-primary title\"><a href=\"/62085-a-wonderful-rumor\">The Uncanny Counter</a>\n",
              " <a class=\"btn simple btn-manage-list\" data-id=\"62085\" data-stats=\"mylist:62085\" rel=\"nofollow\"><span><i class=\"far fa-plus\"></i></span></a>\n",
              " </h6>,\n",
              " <h6 class=\"text-primary title\"><a href=\"/18452-goblin\">Goblin</a>\n",
              " <a class=\"btn simple btn-manage-list\" data-id=\"18452\" data-stats=\"mylist:18452\" rel=\"nofollow\"><span><i class=\"far fa-plus\"></i></span></a>\n",
              " </h6>,\n",
              " <h6 class=\"text-primary title\"><a href=\"/59001-d-p-dog-day\">D.P.</a>\n",
              " <a class=\"btn simple btn-manage-list\" data-id=\"59001\" data-stats=\"mylist:59001\" rel=\"nofollow\"><span><i class=\"far fa-plus\"></i></span></a>\n",
              " </h6>,\n",
              " <h6 class=\"text-primary title\"><a href=\"/22806-kingdom\">Kingdom</a>\n",
              " <a class=\"btn simple btn-manage-list\" data-id=\"22806\" data-stats=\"mylist:22806\" rel=\"nofollow\"><span><i class=\"far fa-plus\"></i></span></a>\n",
              " </h6>,\n",
              " <h6 class=\"text-primary title\"><a href=\"/19262-weightlifting-fairy-kim-bok-joo\">Weightlifting Fairy Kim Bok Joo</a>\n",
              " <a class=\"btn simple btn-manage-list\" data-id=\"19262\" data-stats=\"mylist:19262\" rel=\"nofollow\"><span><i class=\"far fa-plus\"></i></span></a>\n",
              " </h6>,\n",
              " <h6 class=\"text-primary title\"><a href=\"/52921-model-taxi\">Taxi Driver</a>\n",
              " <a class=\"btn simple btn-manage-list\" data-id=\"52921\" data-stats=\"mylist:52921\" rel=\"nofollow\"><span><i class=\"far fa-plus\"></i></span></a>\n",
              " </h6>,\n",
              " <h6 class=\"text-primary title\"><a href=\"/14324-six-flying-dragons\">Six Flying Dragons</a>\n",
              " <a class=\"btn simple btn-manage-list\" data-id=\"14324\" data-stats=\"mylist:14324\" rel=\"nofollow\"><span><i class=\"far fa-plus\"></i></span></a>\n",
              " </h6>,\n",
              " <h6 class=\"text-primary title\"><a href=\"/74275-youth-of-may\">Youth of May</a>\n",
              " <a class=\"btn simple btn-manage-list\" data-id=\"74275\" data-stats=\"mylist:74275\" rel=\"nofollow\"><span><i class=\"far fa-plus\"></i></span></a>\n",
              " </h6>,\n",
              " <h6 class=\"text-primary title\"><a href=\"/26949-life-on-mars\">Life on Mars</a>\n",
              " <a class=\"btn simple btn-manage-list\" data-id=\"26949\" data-stats=\"mylist:26949\" rel=\"nofollow\"><span><i class=\"far fa-plus\"></i></span></a>\n",
              " </h6>,\n",
              " <h6 class=\"text-primary title\"><a href=\"/62087-the-demon-judge\">The Devil Judge</a>\n",
              " <a class=\"btn simple btn-manage-list\" data-id=\"62087\" data-stats=\"mylist:62087\" rel=\"nofollow\"><span><i class=\"far fa-plus\"></i></span></a>\n",
              " </h6>,\n",
              " <h6 class=\"text-primary title\"><a href=\"/75433-rocket-boy-squad\">Racket Boys</a>\n",
              " <a class=\"btn simple btn-manage-list\" data-id=\"75433\" data-stats=\"mylist:75433\" rel=\"nofollow\"><span><i class=\"far fa-plus\"></i></span></a>\n",
              " </h6>,\n",
              " <h6 class=\"text-primary title\"><a href=\"/60911-monster\">Beyond Evil</a>\n",
              " <a class=\"btn simple btn-manage-list\" data-id=\"60911\" data-stats=\"mylist:60911\" rel=\"nofollow\"><span><i class=\"far fa-plus\"></i></span></a>\n",
              " </h6>,\n",
              " <h6 class=\"text-primary title\"><a href=\"/699557-inside-criminal-minds\">Through the Darkness</a>\n",
              " <a class=\"btn simple btn-manage-list\" data-id=\"699557\" data-stats=\"mylist:699557\" rel=\"nofollow\"><span><i class=\"far fa-plus\"></i></span></a>\n",
              " </h6>,\n",
              " <h6 class=\"text-primary title\"><a href=\"/683929-mr-hong\">Hometown Cha-Cha-Cha</a>\n",
              " <a class=\"btn simple btn-manage-list\" data-id=\"683929\" data-stats=\"mylist:683929\" rel=\"nofollow\"><span><i class=\"far fa-plus\"></i></span></a>\n",
              " </h6>,\n",
              " <h6 class=\"text-primary title\"><a href=\"/53535-penthouse\">The Penthouse: War in Life</a>\n",
              " <a class=\"btn simple btn-manage-list\" data-id=\"53535\" data-stats=\"mylist:53535\" rel=\"nofollow\"><span><i class=\"far fa-plus\"></i></span></a>\n",
              " </h6>,\n",
              " <h6 class=\"text-primary title\"><a href=\"/15845-dear-my-friends\">Dear My Friends</a>\n",
              " <a class=\"btn simple btn-manage-list\" data-id=\"15845\" data-stats=\"mylist:15845\" rel=\"nofollow\"><span><i class=\"far fa-plus\"></i></span></a>\n",
              " </h6>,\n",
              " <h6 class=\"text-primary title\"><a href=\"/34667-arthdal-chronicles-season-3\">Arthdal Chronicles Part 3: The Prelude to All Legends</a>\n",
              " <a class=\"btn simple btn-manage-list\" data-id=\"34667\" data-stats=\"mylist:34667\" rel=\"nofollow\"><span><i class=\"far fa-plus\"></i></span></a>\n",
              " </h6>,\n",
              " <h6 class=\"text-primary title\"><a href=\"/696751-missing-the-other-side-2\">Missing: The Other Side Season 2</a>\n",
              " <a class=\"btn simple btn-manage-list\" data-id=\"696751\" data-stats=\"mylist:696751\" rel=\"nofollow\"><span><i class=\"far fa-plus\"></i></span></a>\n",
              " </h6>,\n",
              " <h6 class=\"text-primary title\"><a href=\"/28686-hand\">The Guest</a>\n",
              " <a class=\"btn simple btn-manage-list\" data-id=\"28686\" data-stats=\"mylist:28686\" rel=\"nofollow\"><span><i class=\"far fa-plus\"></i></span></a>\n",
              " </h6>,\n",
              " <h6 class=\"text-primary title\"><a href=\"/34665-arthdal-chronicles-season-2\">Arthdal Chronicles Part 2: The Sky Turning Inside Out, Rising Land</a>\n",
              " <a class=\"btn simple btn-manage-list\" data-id=\"34665\" data-stats=\"mylist:34665\" rel=\"nofollow\"><span><i class=\"far fa-plus\"></i></span></a>\n",
              " </h6>,\n",
              " <h6 class=\"text-primary title\"><a href=\"/19684-defendant\">Defendant</a>\n",
              " <a class=\"btn simple btn-manage-list\" data-id=\"19684\" data-stats=\"mylist:19684\" rel=\"nofollow\"><span><i class=\"far fa-plus\"></i></span></a>\n",
              " </h6>,\n",
              " <h6 class=\"text-primary title\"><a href=\"/38301-romantic-doctor-teacher-kim-2\">Dr. Romantic Season 2</a>\n",
              " <a class=\"btn simple btn-manage-list\" data-id=\"38301\" data-stats=\"mylist:38301\" rel=\"nofollow\"><span><i class=\"far fa-plus\"></i></span></a>\n",
              " </h6>,\n",
              " <h6 class=\"text-primary title\"><a href=\"/21576-while-you-were-sleeping\">While You Were Sleeping</a>\n",
              " <a class=\"btn simple btn-manage-list\" data-id=\"21576\" data-stats=\"mylist:21576\" rel=\"nofollow\"><span><i class=\"far fa-plus\"></i></span></a>\n",
              " </h6>,\n",
              " <h6 class=\"text-primary title\"><a href=\"/680959-the-penthouse-season-2\">The Penthouse Season 2: War in Life</a>\n",
              " <a class=\"btn simple btn-manage-list\" data-id=\"680959\" data-stats=\"mylist:680959\" rel=\"nofollow\"><span><i class=\"far fa-plus\"></i></span></a>\n",
              " </h6>,\n",
              " <h6 class=\"text-primary title\"><a href=\"/694231-us-that-year\">Our Beloved Summer</a>\n",
              " <a class=\"btn simple btn-manage-list\" data-id=\"694231\" data-stats=\"mylist:694231\" rel=\"nofollow\"><span><i class=\"far fa-plus\"></i></span></a>\n",
              " </h6>,\n",
              " <h6 class=\"text-primary title\"><a href=\"/697585-our-blues\">Our Blues</a>\n",
              " <a class=\"btn simple btn-manage-list\" data-id=\"697585\" data-stats=\"mylist:697585\" rel=\"nofollow\"><span><i class=\"far fa-plus\"></i></span></a>\n",
              " </h6>,\n",
              " <h6 class=\"text-primary title\"><a href=\"/34064-sweet-home\">Sweet Home</a>\n",
              " <a class=\"btn simple btn-manage-list\" data-id=\"34064\" data-stats=\"mylist:34064\" rel=\"nofollow\"><span><i class=\"far fa-plus\"></i></span></a>\n",
              " </h6>,\n",
              " <h6 class=\"text-primary title\"><a href=\"/52941-eighteen-again\">18 Again</a>\n",
              " <a class=\"btn simple btn-manage-list\" data-id=\"52941\" data-stats=\"mylist:52941\" rel=\"nofollow\"><span><i class=\"far fa-plus\"></i></span></a>\n",
              " </h6>,\n",
              " <h6 class=\"text-primary title\"><a href=\"/15999-moon-lovers-scarlet-heart-ryeo\">Moon Lovers: Scarlet Heart Ryeo</a>\n",
              " <a class=\"btn simple btn-manage-list\" data-id=\"15999\" data-stats=\"mylist:15999\" rel=\"nofollow\"><span><i class=\"far fa-plus\"></i></span></a>\n",
              " </h6>,\n",
              " <h6 class=\"text-primary title\"><a href=\"/10873-kill-me-heal-me\">Kill Me, Heal Me</a>\n",
              " <a class=\"btn simple btn-manage-list\" data-id=\"10873\" data-stats=\"mylist:10873\" rel=\"nofollow\"><span><i class=\"far fa-plus\"></i></span></a>\n",
              " </h6>,\n",
              " <h6 class=\"text-primary title\"><a href=\"/32917-partners-for-justice-2\">Partners for Justice Season 2</a>\n",
              " <a class=\"btn simple btn-manage-list\" data-id=\"32917\" data-stats=\"mylist:32917\" rel=\"nofollow\"><span><i class=\"far fa-plus\"></i></span></a>\n",
              " </h6>,\n",
              " <h6 class=\"text-primary title\"><a href=\"/10619-incomplete-life\">Misaeng: Incomplete Life</a>\n",
              " <a class=\"btn simple btn-manage-list\" data-id=\"10619\" data-stats=\"mylist:10619\" rel=\"nofollow\"><span><i class=\"far fa-plus\"></i></span></a>\n",
              " </h6>,\n",
              " <h6 class=\"text-primary title\"><a href=\"/29565-hot-blooded-priest\">The Fiery Priest</a>\n",
              " <a class=\"btn simple btn-manage-list\" data-id=\"29565\" data-stats=\"mylist:29565\" rel=\"nofollow\"><span><i class=\"far fa-plus\"></i></span></a>\n",
              " </h6>,\n",
              " <h6 class=\"text-primary title\"><a href=\"/693591-in-house-confrontation\">A Business Proposal</a>\n",
              " <a class=\"btn simple btn-manage-list\" data-id=\"693591\" data-stats=\"mylist:693591\" rel=\"nofollow\"><span><i class=\"far fa-plus\"></i></span></a>\n",
              " </h6>,\n",
              " <h6 class=\"text-primary title\"><a href=\"/22403-chicago-typewriter\">Chicago Typewriter</a>\n",
              " <a class=\"btn simple btn-manage-list\" data-id=\"22403\" data-stats=\"mylist:22403\" rel=\"nofollow\"><span><i class=\"far fa-plus\"></i></span></a>\n",
              " </h6>,\n",
              " <h6 class=\"text-primary title\"><a href=\"/65391-nemesis\">My Name</a>\n",
              " <a class=\"btn simple btn-manage-list\" data-id=\"65391\" data-stats=\"mylist:65391\" rel=\"nofollow\"><span><i class=\"far fa-plus\"></i></span></a>\n",
              " </h6>,\n",
              " <h6 class=\"text-primary title\"><a href=\"/713771-love-battle\">Love to Hate You</a>\n",
              " <a class=\"btn simple btn-manage-list\" data-id=\"713771\" data-stats=\"mylist:713771\" rel=\"nofollow\"><span><i class=\"far fa-plus\"></i></span></a>\n",
              " </h6>,\n",
              " <h6 class=\"text-primary title\"><a href=\"/39221-stove-league\">Hot Stove League</a>\n",
              " <a class=\"btn simple btn-manage-list\" data-id=\"39221\" data-stats=\"mylist:39221\" rel=\"nofollow\"><span><i class=\"far fa-plus\"></i></span></a>\n",
              " </h6>,\n",
              " <h6 class=\"text-primary title\"><a href=\"/18894-strong-woman-do-bong-soon\">Strong Woman Do Bong Soon</a>\n",
              " <a class=\"btn simple btn-manage-list\" data-id=\"18894\" data-stats=\"mylist:18894\" rel=\"nofollow\"><span><i class=\"far fa-plus\"></i></span></a>\n",
              " </h6>,\n",
              " <h6 class=\"text-primary title\"><a href=\"/19510-romantic-doctor-teacher-kim\">Dr. Romantic</a>\n",
              " <a class=\"btn simple btn-manage-list\" data-id=\"19510\" data-stats=\"mylist:19510\" rel=\"nofollow\"><span><i class=\"far fa-plus\"></i></span></a>\n",
              " </h6>,\n",
              " <h6 class=\"text-primary title\"><a href=\"/33075-strangers-from-hell\">Strangers from Hell</a>\n",
              " <a class=\"btn simple btn-manage-list\" data-id=\"33075\" data-stats=\"mylist:33075\" rel=\"nofollow\"><span><i class=\"far fa-plus\"></i></span></a>\n",
              " </h6>,\n",
              " <h6 class=\"text-primary title\"><a href=\"/24015-live\">Live</a>\n",
              " <a class=\"btn simple btn-manage-list\" data-id=\"24015\" data-stats=\"mylist:24015\" rel=\"nofollow\"><span><i class=\"far fa-plus\"></i></span></a>\n",
              " </h6>,\n",
              " <h6 class=\"text-primary title\"><a href=\"/699597-king-of-pigs\">The King of Pigs</a>\n",
              " <a class=\"btn simple btn-manage-list\" data-id=\"699597\" data-stats=\"mylist:699597\" rel=\"nofollow\"><span><i class=\"far fa-plus\"></i></span></a>\n",
              " </h6>,\n",
              " <h6 class=\"text-primary title\"><a href=\"/263-jewel-in-the-palace\">Jewel in the Palace</a>\n",
              " <a class=\"btn simple btn-manage-list\" data-id=\"263\" data-stats=\"mylist:263\" rel=\"nofollow\"><span><i class=\"far fa-plus\"></i></span></a>\n",
              " </h6>,\n",
              " <h6 class=\"text-primary title\"><a href=\"/21687-tunnel\">Tunnel</a>\n",
              " <a class=\"btn simple btn-manage-list\" data-id=\"21687\" data-stats=\"mylist:21687\" rel=\"nofollow\"><span><i class=\"far fa-plus\"></i></span></a>\n",
              " </h6>,\n",
              " <h6 class=\"text-primary title\"><a href=\"/685441-an-untitled-jtbc-project\">My Liberation Notes</a>\n",
              " <a class=\"btn simple btn-manage-list\" data-id=\"685441\" data-stats=\"mylist:685441\" rel=\"nofollow\"><span><i class=\"far fa-plus\"></i></span></a>\n",
              " </h6>,\n",
              " <h6 class=\"text-primary title\"><a href=\"/10904-descendants-of-the-sun\">Descendants of the Sun</a>\n",
              " <a class=\"btn simple btn-manage-list\" data-id=\"10904\" data-stats=\"mylist:10904\" rel=\"nofollow\"><span><i class=\"far fa-plus\"></i></span></a>\n",
              " </h6>,\n",
              " <h6 class=\"text-primary title\"><a href=\"/32925-hotel-del-luna\">Hotel del Luna</a>\n",
              " <a class=\"btn simple btn-manage-list\" data-id=\"32925\" data-stats=\"mylist:32925\" rel=\"nofollow\"><span><i class=\"far fa-plus\"></i></span></a>\n",
              " </h6>,\n",
              " <h6 class=\"text-primary title\"><a href=\"/723711-one-shot-scandal\">Crash Course in Romance</a>\n",
              " <a class=\"btn simple btn-manage-list\" data-id=\"723711\" data-stats=\"mylist:723711\" rel=\"nofollow\"><span><i class=\"far fa-plus\"></i></span></a>\n",
              " </h6>,\n",
              " <h6 class=\"text-primary title\"><a href=\"/62623-law-school\">Law School</a>\n",
              " <a class=\"btn simple btn-manage-list\" data-id=\"62623\" data-stats=\"mylist:62623\" rel=\"nofollow\"><span><i class=\"far fa-plus\"></i></span></a>\n",
              " </h6>,\n",
              " <h6 class=\"text-primary title\"><a href=\"/53101-missing\">Missing: The Other Side</a>\n",
              " <a class=\"btn simple btn-manage-list\" data-id=\"53101\" data-stats=\"mylist:53101\" rel=\"nofollow\"><span><i class=\"far fa-plus\"></i></span></a>\n",
              " </h6>,\n",
              " <h6 class=\"text-primary title\"><a href=\"/711391-the-police-station-next-to-fire-station\">The First Responders</a>\n",
              " <a class=\"btn simple btn-manage-list\" data-id=\"711391\" data-stats=\"mylist:711391\" rel=\"nofollow\"><span><i class=\"far fa-plus\"></i></span></a>\n",
              " </h6>,\n",
              " <h6 class=\"text-primary title\"><a href=\"/9289-its-okay-thats-love\">It's Okay, That's Love</a>\n",
              " <a class=\"btn simple btn-manage-list\" data-id=\"9289\" data-stats=\"mylist:9289\" rel=\"nofollow\"><span><i class=\"far fa-plus\"></i></span></a>\n",
              " </h6>,\n",
              " <h6 class=\"text-primary title\"><a href=\"/26644-eulachacha-waikiki\">Eulachacha Waikiki</a>\n",
              " <a class=\"btn simple btn-manage-list\" data-id=\"26644\" data-stats=\"mylist:26644\" rel=\"nofollow\"><span><i class=\"far fa-plus\"></i></span></a>\n",
              " </h6>,\n",
              " <h6 class=\"text-primary title\"><a href=\"/688213-ghost-doctor\">Ghost Doctor</a>\n",
              " <a class=\"btn simple btn-manage-list\" data-id=\"688213\" data-stats=\"mylist:688213\" rel=\"nofollow\"><span><i class=\"far fa-plus\"></i></span></a>\n",
              " </h6>,\n",
              " <h6 class=\"text-primary title\"><a href=\"/79607-youngest-son-of-a-conglomerate\">Reborn Rich</a>\n",
              " <a class=\"btn simple btn-manage-list\" data-id=\"79607\" data-stats=\"mylist:79607\" rel=\"nofollow\"><span><i class=\"far fa-plus\"></i></span></a>\n",
              " </h6>,\n",
              " <h6 class=\"text-primary title\"><a href=\"/30967-red-moon-blue-sea\">Children of Nobody</a>\n",
              " <a class=\"btn simple btn-manage-list\" data-id=\"30967\" data-stats=\"mylist:30967\" rel=\"nofollow\"><span><i class=\"far fa-plus\"></i></span></a>\n",
              " </h6>,\n",
              " <h6 class=\"text-primary title\"><a href=\"/20340-good-manager\">Good Manager</a>\n",
              " <a class=\"btn simple btn-manage-list\" data-id=\"20340\" data-stats=\"mylist:20340\" rel=\"nofollow\"><span><i class=\"far fa-plus\"></i></span></a>\n",
              " </h6>,\n",
              " <h6 class=\"text-primary title\"><a href=\"/732025-money-heist-korea-joint-economic-area-part-2\">Money Heist: Korea - Joint Economic Area - Part 2</a>\n",
              " <a class=\"btn simple btn-manage-list\" data-id=\"732025\" data-stats=\"mylist:732025\" rel=\"nofollow\"><span><i class=\"far fa-plus\"></i></span></a>\n",
              " </h6>,\n",
              " <h6 class=\"text-primary title\"><a href=\"/44611-i-have-been-there-once\">Once Again</a>\n",
              " <a class=\"btn simple btn-manage-list\" data-id=\"44611\" data-stats=\"mylist:44611\" rel=\"nofollow\"><span><i class=\"far fa-plus\"></i></span></a>\n",
              " </h6>,\n",
              " <h6 class=\"text-primary title\"><a href=\"/3394-the-bridal-mask\">The Bridal Mask</a>\n",
              " <a class=\"btn simple btn-manage-list\" data-id=\"3394\" data-stats=\"mylist:3394\" rel=\"nofollow\"><span><i class=\"far fa-plus\"></i></span></a>\n",
              " </h6>,\n",
              " <h6 class=\"text-primary title\"><a href=\"/7114-empress-ki\">Empress Ki</a>\n",
              " <a class=\"btn simple btn-manage-list\" data-id=\"7114\" data-stats=\"mylist:7114\" rel=\"nofollow\"><span><i class=\"far fa-plus\"></i></span></a>\n",
              " </h6>,\n",
              " <h6 class=\"text-primary title\"><a href=\"/24863-go-back-couple\">Go Back Couple</a>\n",
              " <a class=\"btn simple btn-manage-list\" data-id=\"24863\" data-stats=\"mylist:24863\" rel=\"nofollow\"><span><i class=\"far fa-plus\"></i></span></a>\n",
              " </h6>,\n",
              " <h6 class=\"text-primary title\"><a href=\"/21846-my-father-is-strange\">My Father Is Strange</a>\n",
              " <a class=\"btn simple btn-manage-list\" data-id=\"21846\" data-stats=\"mylist:21846\" rel=\"nofollow\"><span><i class=\"far fa-plus\"></i></span></a>\n",
              " </h6>,\n",
              " <h6 class=\"text-primary title\"><a href=\"/79997-boy-referee\">Juvenile Justice</a>\n",
              " <a class=\"btn simple btn-manage-list\" data-id=\"79997\" data-stats=\"mylist:79997\" rel=\"nofollow\"><span><i class=\"far fa-plus\"></i></span></a>\n",
              " </h6>,\n",
              " <h6 class=\"text-primary title\"><a href=\"/685801-big-mouse\">Big Mouth</a>\n",
              " <a class=\"btn simple btn-manage-list\" data-id=\"685801\" data-stats=\"mylist:685801\" rel=\"nofollow\"><span><i class=\"far fa-plus\"></i></span></a>\n",
              " </h6>,\n",
              " <h6 class=\"text-primary title\"><a href=\"/704957-little-women\">Little Women</a>\n",
              " <a class=\"btn simple btn-manage-list\" data-id=\"704957\" data-stats=\"mylist:704957\" rel=\"nofollow\"><span><i class=\"far fa-plus\"></i></span></a>\n",
              " </h6>,\n",
              " <h6 class=\"text-primary title\"><a href=\"/27361-stranger-2\">Stranger Season 2</a>\n",
              " <a class=\"btn simple btn-manage-list\" data-id=\"27361\" data-stats=\"mylist:27361\" rel=\"nofollow\"><span><i class=\"far fa-plus\"></i></span></a>\n",
              " </h6>,\n",
              " <h6 class=\"text-primary title\"><a href=\"/32227-designated-survivor\">Designated Survivor: 60 Days</a>\n",
              " <a class=\"btn simple btn-manage-list\" data-id=\"32227\" data-stats=\"mylist:32227\" rel=\"nofollow\"><span><i class=\"far fa-plus\"></i></span></a>\n",
              " </h6>,\n",
              " <h6 class=\"text-primary title\"><a href=\"/6719-cruel-city\">Cruel City</a>\n",
              " <a class=\"btn simple btn-manage-list\" data-id=\"6719\" data-stats=\"mylist:6719\" rel=\"nofollow\"><span><i class=\"far fa-plus\"></i></span></a>\n",
              " </h6>]"
            ]
          },
          "metadata": {},
          "execution_count": 5
        }
      ]
    },
    {
      "cell_type": "code",
      "source": [
        "DRAMA_href_list=list(map(lambda i : i.find('a').get('href'), href_tag_list))\n",
        "\n",
        "DRAMA_href_list"
      ],
      "metadata": {
        "colab": {
          "base_uri": "https://localhost:8080/"
        },
        "id": "3Jx73jYT5R7m",
        "outputId": "08ebabec-671b-4f1b-e408-5ce48e1f1211"
      },
      "execution_count": null,
      "outputs": [
        {
          "output_type": "execute_result",
          "data": {
            "text/plain": [
              "['/49231-move-to-heaven',\n",
              " '/702267-weak-hero',\n",
              " '/57173-hospital-playlist-2',\n",
              " '/54625-flower-of-evil',\n",
              " '/36269-doctor-playbook',\n",
              " '/52939-can-this-person-be-translated',\n",
              " '/13544-reply-1988',\n",
              " '/25172-my-ajusshi',\n",
              " '/705857-umbrella',\n",
              " '/22624-wise-prison-life',\n",
              " '/733261-alchemy-of-souls-part-2',\n",
              " '/58365-queen-cheorin',\n",
              " '/21308-mother',\n",
              " '/705723-strange-lawyer-woo-young-woo',\n",
              " '/35729-emergency-lands-of-love',\n",
              " '/59381-navillera',\n",
              " '/61371-vincenzo',\n",
              " '/49865-psycho-but-it-s-okay',\n",
              " '/13239-signal',\n",
              " '/32220-kingdom-2',\n",
              " '/690709-happiness',\n",
              " '/23920-mr.-sunshine',\n",
              " '/685237-untitled-kim-eun-sook-project',\n",
              " '/30740-sky-castle',\n",
              " '/10814-healer',\n",
              " '/695963-tomorrow',\n",
              " '/61399-dress-sleeved-red',\n",
              " '/58953-mouse',\n",
              " '/21934-stranger',\n",
              " '/695149-twenty-five-twenty-one',\n",
              " '/62085-a-wonderful-rumor',\n",
              " '/18452-goblin',\n",
              " '/59001-d-p-dog-day',\n",
              " '/22806-kingdom',\n",
              " '/19262-weightlifting-fairy-kim-bok-joo',\n",
              " '/52921-model-taxi',\n",
              " '/14324-six-flying-dragons',\n",
              " '/74275-youth-of-may',\n",
              " '/26949-life-on-mars',\n",
              " '/62087-the-demon-judge',\n",
              " '/75433-rocket-boy-squad',\n",
              " '/60911-monster',\n",
              " '/699557-inside-criminal-minds',\n",
              " '/683929-mr-hong',\n",
              " '/53535-penthouse',\n",
              " '/15845-dear-my-friends',\n",
              " '/34667-arthdal-chronicles-season-3',\n",
              " '/696751-missing-the-other-side-2',\n",
              " '/28686-hand',\n",
              " '/34665-arthdal-chronicles-season-2',\n",
              " '/19684-defendant',\n",
              " '/38301-romantic-doctor-teacher-kim-2',\n",
              " '/21576-while-you-were-sleeping',\n",
              " '/680959-the-penthouse-season-2',\n",
              " '/694231-us-that-year',\n",
              " '/697585-our-blues',\n",
              " '/34064-sweet-home',\n",
              " '/52941-eighteen-again',\n",
              " '/15999-moon-lovers-scarlet-heart-ryeo',\n",
              " '/10873-kill-me-heal-me',\n",
              " '/32917-partners-for-justice-2',\n",
              " '/10619-incomplete-life',\n",
              " '/29565-hot-blooded-priest',\n",
              " '/693591-in-house-confrontation',\n",
              " '/22403-chicago-typewriter',\n",
              " '/65391-nemesis',\n",
              " '/713771-love-battle',\n",
              " '/39221-stove-league',\n",
              " '/18894-strong-woman-do-bong-soon',\n",
              " '/19510-romantic-doctor-teacher-kim',\n",
              " '/33075-strangers-from-hell',\n",
              " '/24015-live',\n",
              " '/699597-king-of-pigs',\n",
              " '/263-jewel-in-the-palace',\n",
              " '/21687-tunnel',\n",
              " '/685441-an-untitled-jtbc-project',\n",
              " '/10904-descendants-of-the-sun',\n",
              " '/32925-hotel-del-luna',\n",
              " '/723711-one-shot-scandal',\n",
              " '/62623-law-school',\n",
              " '/53101-missing',\n",
              " '/711391-the-police-station-next-to-fire-station',\n",
              " '/9289-its-okay-thats-love',\n",
              " '/26644-eulachacha-waikiki',\n",
              " '/688213-ghost-doctor',\n",
              " '/79607-youngest-son-of-a-conglomerate',\n",
              " '/30967-red-moon-blue-sea',\n",
              " '/20340-good-manager',\n",
              " '/732025-money-heist-korea-joint-economic-area-part-2',\n",
              " '/44611-i-have-been-there-once',\n",
              " '/3394-the-bridal-mask',\n",
              " '/7114-empress-ki',\n",
              " '/24863-go-back-couple',\n",
              " '/21846-my-father-is-strange',\n",
              " '/79997-boy-referee',\n",
              " '/685801-big-mouse',\n",
              " '/704957-little-women',\n",
              " '/27361-stranger-2',\n",
              " '/32227-designated-survivor',\n",
              " '/6719-cruel-city']"
            ]
          },
          "metadata": {},
          "execution_count": 11
        }
      ]
    },
    {
      "cell_type": "code",
      "source": [
        "DRAMA_href_list=list(map(lambda x:'https://mydramalist.com'+x, DRAMA_href_list))\n",
        "\n",
        "DRAMA_href_list"
      ],
      "metadata": {
        "colab": {
          "base_uri": "https://localhost:8080/"
        },
        "id": "Jdj7Y6yXI945",
        "outputId": "86f0103b-2afc-4c77-d3f7-6e215fcd400c"
      },
      "execution_count": null,
      "outputs": [
        {
          "output_type": "execute_result",
          "data": {
            "text/plain": [
              "['https://mydramalist.com/49231-move-to-heaven',\n",
              " 'https://mydramalist.com/702267-weak-hero',\n",
              " 'https://mydramalist.com/57173-hospital-playlist-2',\n",
              " 'https://mydramalist.com/54625-flower-of-evil',\n",
              " 'https://mydramalist.com/36269-doctor-playbook',\n",
              " 'https://mydramalist.com/52939-can-this-person-be-translated',\n",
              " 'https://mydramalist.com/13544-reply-1988',\n",
              " 'https://mydramalist.com/25172-my-ajusshi',\n",
              " 'https://mydramalist.com/705857-umbrella',\n",
              " 'https://mydramalist.com/22624-wise-prison-life',\n",
              " 'https://mydramalist.com/733261-alchemy-of-souls-part-2',\n",
              " 'https://mydramalist.com/58365-queen-cheorin',\n",
              " 'https://mydramalist.com/21308-mother',\n",
              " 'https://mydramalist.com/705723-strange-lawyer-woo-young-woo',\n",
              " 'https://mydramalist.com/35729-emergency-lands-of-love',\n",
              " 'https://mydramalist.com/59381-navillera',\n",
              " 'https://mydramalist.com/61371-vincenzo',\n",
              " 'https://mydramalist.com/49865-psycho-but-it-s-okay',\n",
              " 'https://mydramalist.com/13239-signal',\n",
              " 'https://mydramalist.com/32220-kingdom-2',\n",
              " 'https://mydramalist.com/690709-happiness',\n",
              " 'https://mydramalist.com/23920-mr.-sunshine',\n",
              " 'https://mydramalist.com/685237-untitled-kim-eun-sook-project',\n",
              " 'https://mydramalist.com/30740-sky-castle',\n",
              " 'https://mydramalist.com/10814-healer',\n",
              " 'https://mydramalist.com/695963-tomorrow',\n",
              " 'https://mydramalist.com/61399-dress-sleeved-red',\n",
              " 'https://mydramalist.com/58953-mouse',\n",
              " 'https://mydramalist.com/21934-stranger',\n",
              " 'https://mydramalist.com/695149-twenty-five-twenty-one',\n",
              " 'https://mydramalist.com/62085-a-wonderful-rumor',\n",
              " 'https://mydramalist.com/18452-goblin',\n",
              " 'https://mydramalist.com/59001-d-p-dog-day',\n",
              " 'https://mydramalist.com/22806-kingdom',\n",
              " 'https://mydramalist.com/19262-weightlifting-fairy-kim-bok-joo',\n",
              " 'https://mydramalist.com/52921-model-taxi',\n",
              " 'https://mydramalist.com/14324-six-flying-dragons',\n",
              " 'https://mydramalist.com/74275-youth-of-may',\n",
              " 'https://mydramalist.com/26949-life-on-mars',\n",
              " 'https://mydramalist.com/62087-the-demon-judge',\n",
              " 'https://mydramalist.com/75433-rocket-boy-squad',\n",
              " 'https://mydramalist.com/60911-monster',\n",
              " 'https://mydramalist.com/699557-inside-criminal-minds',\n",
              " 'https://mydramalist.com/683929-mr-hong',\n",
              " 'https://mydramalist.com/53535-penthouse',\n",
              " 'https://mydramalist.com/15845-dear-my-friends',\n",
              " 'https://mydramalist.com/34667-arthdal-chronicles-season-3',\n",
              " 'https://mydramalist.com/696751-missing-the-other-side-2',\n",
              " 'https://mydramalist.com/28686-hand',\n",
              " 'https://mydramalist.com/34665-arthdal-chronicles-season-2',\n",
              " 'https://mydramalist.com/19684-defendant',\n",
              " 'https://mydramalist.com/38301-romantic-doctor-teacher-kim-2',\n",
              " 'https://mydramalist.com/21576-while-you-were-sleeping',\n",
              " 'https://mydramalist.com/680959-the-penthouse-season-2',\n",
              " 'https://mydramalist.com/694231-us-that-year',\n",
              " 'https://mydramalist.com/697585-our-blues',\n",
              " 'https://mydramalist.com/34064-sweet-home',\n",
              " 'https://mydramalist.com/52941-eighteen-again',\n",
              " 'https://mydramalist.com/15999-moon-lovers-scarlet-heart-ryeo',\n",
              " 'https://mydramalist.com/10873-kill-me-heal-me',\n",
              " 'https://mydramalist.com/32917-partners-for-justice-2',\n",
              " 'https://mydramalist.com/10619-incomplete-life',\n",
              " 'https://mydramalist.com/29565-hot-blooded-priest',\n",
              " 'https://mydramalist.com/693591-in-house-confrontation',\n",
              " 'https://mydramalist.com/22403-chicago-typewriter',\n",
              " 'https://mydramalist.com/65391-nemesis',\n",
              " 'https://mydramalist.com/713771-love-battle',\n",
              " 'https://mydramalist.com/39221-stove-league',\n",
              " 'https://mydramalist.com/18894-strong-woman-do-bong-soon',\n",
              " 'https://mydramalist.com/19510-romantic-doctor-teacher-kim',\n",
              " 'https://mydramalist.com/33075-strangers-from-hell',\n",
              " 'https://mydramalist.com/24015-live',\n",
              " 'https://mydramalist.com/699597-king-of-pigs',\n",
              " 'https://mydramalist.com/263-jewel-in-the-palace',\n",
              " 'https://mydramalist.com/21687-tunnel',\n",
              " 'https://mydramalist.com/685441-an-untitled-jtbc-project',\n",
              " 'https://mydramalist.com/10904-descendants-of-the-sun',\n",
              " 'https://mydramalist.com/32925-hotel-del-luna',\n",
              " 'https://mydramalist.com/723711-one-shot-scandal',\n",
              " 'https://mydramalist.com/62623-law-school',\n",
              " 'https://mydramalist.com/53101-missing',\n",
              " 'https://mydramalist.com/711391-the-police-station-next-to-fire-station',\n",
              " 'https://mydramalist.com/9289-its-okay-thats-love',\n",
              " 'https://mydramalist.com/26644-eulachacha-waikiki',\n",
              " 'https://mydramalist.com/688213-ghost-doctor',\n",
              " 'https://mydramalist.com/79607-youngest-son-of-a-conglomerate',\n",
              " 'https://mydramalist.com/30967-red-moon-blue-sea',\n",
              " 'https://mydramalist.com/20340-good-manager',\n",
              " 'https://mydramalist.com/732025-money-heist-korea-joint-economic-area-part-2',\n",
              " 'https://mydramalist.com/44611-i-have-been-there-once',\n",
              " 'https://mydramalist.com/3394-the-bridal-mask',\n",
              " 'https://mydramalist.com/7114-empress-ki',\n",
              " 'https://mydramalist.com/24863-go-back-couple',\n",
              " 'https://mydramalist.com/21846-my-father-is-strange',\n",
              " 'https://mydramalist.com/79997-boy-referee',\n",
              " 'https://mydramalist.com/685801-big-mouse',\n",
              " 'https://mydramalist.com/704957-little-women',\n",
              " 'https://mydramalist.com/27361-stranger-2',\n",
              " 'https://mydramalist.com/32227-designated-survivor',\n",
              " 'https://mydramalist.com/6719-cruel-city']"
            ]
          },
          "metadata": {},
          "execution_count": 12
        }
      ]
    },
    {
      "cell_type": "code",
      "source": [
        "len(DRAMA_href_list)\n",
        "# 사진과 제목에 똑같은 페이지의 링크가 걸려 있어서 100개의 드라마지만 각각 중복되어서 총 200개의 링크 리스트가 만들어짊."
      ],
      "metadata": {
        "colab": {
          "base_uri": "https://localhost:8080/"
        },
        "id": "fbqPNUrL-NOD",
        "outputId": "bd5bc3d7-d2cb-4c11-a1d2-63c179787fe6"
      },
      "execution_count": null,
      "outputs": [
        {
          "output_type": "execute_result",
          "data": {
            "text/plain": [
              "100"
            ]
          },
          "metadata": {},
          "execution_count": 13
        }
      ]
    },
    {
      "cell_type": "markdown",
      "source": [
        "DRAMA_href_list : 100개의 드라마 각각의 링크 리스트"
      ],
      "metadata": {
        "id": "8d4jZK0DATHO"
      }
    },
    {
      "cell_type": "code",
      "source": [
        "# 여기서의 문제는 제목정보를 확인 할 수 없다는 것.\n",
        "# 선택지 (1) 제목 정보를 수집하고 넘어갈지 (2) 링크에 들어가서 제목정보를 수집할지"
      ],
      "metadata": {
        "id": "MFzr8SB8ASVq"
      },
      "execution_count": null,
      "outputs": []
    },
    {
      "cell_type": "markdown",
      "source": [
        "선택지 (2) 링크에 들어가서 제복정보를 수집한다."
      ],
      "metadata": {
        "id": "M_Jt9VLVJZbH"
      }
    },
    {
      "cell_type": "code",
      "source": [
        "# test_url 설정해줘\n",
        "test_url=DRAMA_href_list[0]\n",
        "\n",
        "test_url"
      ],
      "metadata": {
        "colab": {
          "base_uri": "https://localhost:8080/",
          "height": 35
        },
        "id": "xk9sFyF_JeMs",
        "outputId": "b68d74ed-374e-4514-9911-aa432f0fd4ad"
      },
      "execution_count": null,
      "outputs": [
        {
          "output_type": "execute_result",
          "data": {
            "text/plain": [
              "'https://mydramalist.com/49231-move-to-heaven'"
            ],
            "application/vnd.google.colaboratory.intrinsic+json": {
              "type": "string"
            }
          },
          "metadata": {},
          "execution_count": 15
        }
      ]
    },
    {
      "cell_type": "code",
      "source": [
        "# requests.get(), BeautifulSoup()\n",
        "res=requests.get(test_url)\n",
        "\n",
        "html=res.text\n",
        "soup=BeautifulSoup(html, 'lxml')"
      ],
      "metadata": {
        "id": "FER6WPCHKVAF"
      },
      "execution_count": null,
      "outputs": []
    },
    {
      "cell_type": "code",
      "source": [
        "# 드라마 제목(title)\n",
        "title=soup.find('li', attrs={'class':'list-item p-a-0'}).find('a').text\n",
        "\n",
        "print(title)"
      ],
      "metadata": {
        "colab": {
          "base_uri": "https://localhost:8080/"
        },
        "id": "Zb4onmHHNAU0",
        "outputId": "c98a5bea-6f5d-4828-97b6-fbf733599ad0"
      },
      "execution_count": null,
      "outputs": [
        {
          "output_type": "stream",
          "name": "stdout",
          "text": [
            "무브 투 헤븐: 나는 유품정리사입니다\n"
          ]
        }
      ]
    },
    {
      "cell_type": "code",
      "source": [
        "# 드라마 평점(score)\n",
        "score=soup.find('div', attrs={'class':'box deep-orange'}).text # str 형태\n",
        "\n",
        "print(score)"
      ],
      "metadata": {
        "colab": {
          "base_uri": "https://localhost:8080/"
        },
        "id": "tUfKff3cPM04",
        "outputId": "21af1771-ea20-4c8c-f6a5-f41a13ab1aff"
      },
      "execution_count": null,
      "outputs": [
        {
          "output_type": "stream",
          "name": "stdout",
          "text": [
            "9.2\n"
          ]
        }
      ]
    },
    {
      "cell_type": "code",
      "source": [
        "# 드라마 장르(genre_list)\n",
        "genre_list=soup.find('li', attrs={'class':'list-item p-a-0 show-genres'}).find_all('a', attrs={'class':'text-primary'})\n",
        "\n",
        "genre_list"
      ],
      "metadata": {
        "colab": {
          "base_uri": "https://localhost:8080/"
        },
        "id": "wkZ1o5K4QQ9P",
        "outputId": "a7228535-9128-4426-d5a9-d283c9189851"
      },
      "execution_count": null,
      "outputs": [
        {
          "output_type": "execute_result",
          "data": {
            "text/plain": [
              "[<a class=\"text-primary\" href=\"/search?adv=titles&amp;ge=22&amp;so=popular&amp;or=desc\">Life</a>,\n",
              " <a class=\"text-primary\" href=\"/search?adv=titles&amp;ge=25&amp;so=popular&amp;or=desc\">Drama</a>]"
            ]
          },
          "metadata": {},
          "execution_count": 19
        }
      ]
    },
    {
      "cell_type": "code",
      "source": [
        "genre_list=list(map(lambda x : x.text, genre_list))\n",
        "\n",
        "genre_list"
      ],
      "metadata": {
        "colab": {
          "base_uri": "https://localhost:8080/"
        },
        "id": "lkZQ89afRwQV",
        "outputId": "7f2b8345-8bf7-4e27-8a43-7f0854cbf140"
      },
      "execution_count": null,
      "outputs": [
        {
          "output_type": "execute_result",
          "data": {
            "text/plain": [
              "['Life', 'Drama']"
            ]
          },
          "metadata": {},
          "execution_count": 20
        }
      ]
    },
    {
      "cell_type": "code",
      "source": [
        "# 드라마 제재(tag_list)\n",
        "tag_list=soup.find('li', attrs={'class':'list-item p-a-0 show-tags'}).find_all('a', attrs={'class':'text-primary'})\n",
        "\n",
        "tag_list"
      ],
      "metadata": {
        "colab": {
          "base_uri": "https://localhost:8080/"
        },
        "id": "_L2LJWyySfAD",
        "outputId": "06e7eac8-6212-4cc6-d1a7-25087b7be663"
      },
      "execution_count": null,
      "outputs": [
        {
          "output_type": "execute_result",
          "data": {
            "text/plain": [
              "[<a class=\"text-primary\" href=\"/search?adv=titles&amp;th=8311&amp;so=popular&amp;or=desc\">Uncle-Nephew Relationship</a>,\n",
              " <a class=\"text-primary\" href=\"/search?adv=titles&amp;th=628&amp;so=popular&amp;or=desc\">Autism</a>,\n",
              " <a class=\"text-primary\" href=\"/search?adv=titles&amp;th=823&amp;so=popular&amp;or=desc\">Death</a>,\n",
              " <a class=\"text-primary\" href=\"/search?adv=titles&amp;th=5417&amp;so=popular&amp;or=desc\">Savant Syndrome</a>,\n",
              " <a class=\"text-primary\" href=\"/search?adv=titles&amp;th=1695&amp;so=popular&amp;or=desc\">Mourning</a>,\n",
              " <a class=\"text-primary\" href=\"/search?adv=titles&amp;th=975&amp;so=popular&amp;or=desc\">Tearjerker</a>,\n",
              " <a class=\"text-primary\" href=\"/search?adv=titles&amp;th=524&amp;so=popular&amp;or=desc\">Life Lesson</a>,\n",
              " <a class=\"text-primary\" href=\"/search?adv=titles&amp;th=14077&amp;so=popular&amp;or=desc\">Cleaning And Organizing</a>,\n",
              " <a class=\"text-primary\" href=\"/search?adv=titles&amp;th=8985&amp;so=popular&amp;or=desc\">Autism Spectrum Disorder</a>,\n",
              " <a class=\"text-primary\" href=\"/search?adv=titles&amp;th=270&amp;so=popular&amp;or=desc\">Murder</a>]"
            ]
          },
          "metadata": {},
          "execution_count": 21
        }
      ]
    },
    {
      "cell_type": "code",
      "source": [
        "tag_list=list(map(lambda x : x.text, tag_list))\n",
        "\n",
        "tag_list"
      ],
      "metadata": {
        "colab": {
          "base_uri": "https://localhost:8080/"
        },
        "id": "q7lnGyFTTeug",
        "outputId": "d429a44c-9c97-49bb-9f8f-859cd1182403"
      },
      "execution_count": null,
      "outputs": [
        {
          "output_type": "execute_result",
          "data": {
            "text/plain": [
              "['Uncle-Nephew Relationship',\n",
              " 'Autism',\n",
              " 'Death',\n",
              " 'Savant Syndrome',\n",
              " 'Mourning',\n",
              " 'Tearjerker',\n",
              " 'Life Lesson',\n",
              " 'Cleaning And Organizing',\n",
              " 'Autism Spectrum Disorder',\n",
              " 'Murder']"
            ]
          },
          "metadata": {},
          "execution_count": 22
        }
      ]
    },
    {
      "cell_type": "code",
      "source": [
        "# 드라마 참여 배우(actor_list)\n",
        "actor_list=soup.find_all('div', attrs={'xitempropx':'actor'})\n",
        "\n",
        "actor_list=list(map(lambda x : x.find('b', attrs={'itempropx':'name'}).text, actor_list))\n",
        "actor_list"
      ],
      "metadata": {
        "colab": {
          "base_uri": "https://localhost:8080/"
        },
        "id": "kCwJ3HDQXU3C",
        "outputId": "12608415-2ffe-4b09-e622-831e39c61fa0"
      },
      "execution_count": null,
      "outputs": [
        {
          "output_type": "execute_result",
          "data": {
            "text/plain": [
              "['Lee Je Hoon',\n",
              " 'Tang Jun Sang',\n",
              " 'Hong Seung Hee',\n",
              " 'Jung Suk Yong',\n",
              " 'Jung Young Joo',\n",
              " 'Lee Moon Shik']"
            ]
          },
          "metadata": {},
          "execution_count": 23
        }
      ]
    },
    {
      "cell_type": "code",
      "source": [
        "# 드라마 방영 요일(day)\n",
        "day_list=soup.find('ul', attrs={'class':'list m-a-0 hidden-md-up'}).find_all('li', attrs={'class':'list-item p-a-0'})\n",
        "day_list"
      ],
      "metadata": {
        "colab": {
          "base_uri": "https://localhost:8080/"
        },
        "id": "zIv6_XQ_ipAC",
        "outputId": "2ef18e00-288f-4819-f830-362004ccbb69"
      },
      "execution_count": null,
      "outputs": [
        {
          "output_type": "execute_result",
          "data": {
            "text/plain": [
              "[<li class=\"list-item p-a-0\"><b class=\"inline\">Country:</b> South Korea <i class=\"flag flags-c3\"></i></li>,\n",
              " <li class=\"list-item p-a-0\"><b class=\"inline\">Type:</b> Drama</li>,\n",
              " <li class=\"list-item p-a-0\"><b class=\"inline\">Episodes:</b> 10</li>,\n",
              " <li class=\"list-item p-a-0\"><b class=\"inline\">Aired:</b> May 14, 2021</li>,\n",
              " <li class=\"list-item p-a-0\"><b class=\"inline\">Aired On:</b> Friday</li>,\n",
              " <li class=\"list-item p-a-0\"><b class=\"inline\">Original Network:</b> <a class=\"text-primary\" href=\"/search?adv=titles&amp;nt=128\">Netflix</a> </li>,\n",
              " <li class=\"list-item p-a-0\"><b class=\"inline\">Duration:</b> 52 min.</li>,\n",
              " <li class=\"list-item p-a-0\"><b class=\"inline\">Score:</b> 9.2 <span class=\"hft\">(scored by <a href=\"/49231-move-to-heaven/statistics\">32,207 users</a>)</span></li>,\n",
              " <li class=\"list-item p-a-0\"><b class=\"inline\">Ranked:</b> #8</li>,\n",
              " <li class=\"list-item p-a-0\"><b class=\"inline\">Popularity:</b> #94</li>,\n",
              " <li class=\"list-item p-a-0\"><b class=\"inline\">Content Rating:</b> 18+ Restricted (violence &amp; profanity)</li>,\n",
              " <li class=\"list-item p-a-0\" style=\"display:none;\"><b class=\"inline\">Watchers:</b> 63,395</li>,\n",
              " <li class=\"list-item p-a-0\" style=\"display:none;\"><b class=\"inline\">Favorites:</b> 0</li>]"
            ]
          },
          "metadata": {},
          "execution_count": 24
        }
      ]
    },
    {
      "cell_type": "code",
      "source": [
        "# .decompose() 를 하면 soup.find() 해서 찾은 태그를 지운채로 저장시킴\n",
        "day_list[4].find('b').decompose()\n",
        "\n",
        "day_list"
      ],
      "metadata": {
        "colab": {
          "base_uri": "https://localhost:8080/"
        },
        "id": "BuxpljGd8yl5",
        "outputId": "f57e91d0-201d-425e-d9d0-58af8ed67b24"
      },
      "execution_count": null,
      "outputs": [
        {
          "output_type": "execute_result",
          "data": {
            "text/plain": [
              "[<li class=\"list-item p-a-0\"><b class=\"inline\">Country:</b> South Korea <i class=\"flag flags-c3\"></i></li>,\n",
              " <li class=\"list-item p-a-0\"><b class=\"inline\">Type:</b> Drama</li>,\n",
              " <li class=\"list-item p-a-0\"><b class=\"inline\">Episodes:</b> 10</li>,\n",
              " <li class=\"list-item p-a-0\"><b class=\"inline\">Aired:</b> May 14, 2021</li>,\n",
              " <li class=\"list-item p-a-0\"> Friday</li>,\n",
              " <li class=\"list-item p-a-0\"><b class=\"inline\">Original Network:</b> <a class=\"text-primary\" href=\"/search?adv=titles&amp;nt=128\">Netflix</a> </li>,\n",
              " <li class=\"list-item p-a-0\"><b class=\"inline\">Duration:</b> 52 min.</li>,\n",
              " <li class=\"list-item p-a-0\"><b class=\"inline\">Score:</b> 9.2 <span class=\"hft\">(scored by <a href=\"/49231-move-to-heaven/statistics\">32,207 users</a>)</span></li>,\n",
              " <li class=\"list-item p-a-0\"><b class=\"inline\">Ranked:</b> #8</li>,\n",
              " <li class=\"list-item p-a-0\"><b class=\"inline\">Popularity:</b> #94</li>,\n",
              " <li class=\"list-item p-a-0\"><b class=\"inline\">Content Rating:</b> 18+ Restricted (violence &amp; profanity)</li>,\n",
              " <li class=\"list-item p-a-0\" style=\"display:none;\"><b class=\"inline\">Watchers:</b> 63,395</li>,\n",
              " <li class=\"list-item p-a-0\" style=\"display:none;\"><b class=\"inline\">Favorites:</b> 0</li>]"
            ]
          },
          "metadata": {},
          "execution_count": 25
        }
      ]
    },
    {
      "cell_type": "code",
      "source": [
        "day=day_list[4].text\n",
        "\n",
        "day"
      ],
      "metadata": {
        "colab": {
          "base_uri": "https://localhost:8080/",
          "height": 35
        },
        "id": "RSGIGCAV9HbK",
        "outputId": "acfce1b2-8324-4859-aa71-fc1a23e62aa0"
      },
      "execution_count": null,
      "outputs": [
        {
          "output_type": "execute_result",
          "data": {
            "text/plain": [
              "' Friday'"
            ],
            "application/vnd.google.colaboratory.intrinsic+json": {
              "type": "string"
            }
          },
          "metadata": {},
          "execution_count": 26
        }
      ]
    },
    {
      "cell_type": "markdown",
      "source": [],
      "metadata": {
        "id": "216xqz32jrcP"
      }
    },
    {
      "cell_type": "markdown",
      "source": [
        "드라마 데이터 일반화\n",
        "\n",
        "[순위, 제목, 평점, 장르[], 제재[], 배우, 요일]"
      ],
      "metadata": {
        "id": "o2hI133rNfUI"
      }
    },
    {
      "cell_type": "code",
      "source": [
        "DRAMA_list=[]"
      ],
      "metadata": {
        "id": "Yhlzq5DJNfAO"
      },
      "execution_count": null,
      "outputs": []
    },
    {
      "cell_type": "markdown",
      "source": [],
      "metadata": {
        "id": "aA9l6TptkElr"
      }
    },
    {
      "cell_type": "code",
      "source": [
        "DRAMA_list"
      ],
      "metadata": {
        "id": "9F9W30s9SSmZ"
      },
      "execution_count": null,
      "outputs": []
    },
    {
      "cell_type": "markdown",
      "source": [
        "드라마 OST 데이터"
      ],
      "metadata": {
        "id": "p3g-rM-lBalK"
      }
    },
    {
      "cell_type": "code",
      "source": [
        "ost_test_url='https://www.melon.com/search/song/index.htm?q=%EB%B6%89%EC%9D%80%EB%8B%AC+%ED%91%B8%EB%A5%B8%ED%95%B4&section=&searchGnbYn=Y&kkoSpl=Y&kkoDpType=&mwkLogType=T'"
      ],
      "metadata": {
        "id": "SnAgUqEuBsYb"
      },
      "execution_count": null,
      "outputs": []
    },
    {
      "cell_type": "code",
      "source": [
        "from urllib.parse import urlparse\n",
        "from urllib.parse import parse_qs\n",
        "# 위의 복잡한 URL은 사실 요청문으로 이루어져 있습니다. 여기에서 정보를 빠르고 쉽게 추출할 수 있어요\n",
        "\n",
        "params=parse_qs(urlparse(ost_test_url).query) # 원하는 부분을 변경할 수 있음.\n",
        "params # 딕셔너리 형태 -> key값, value값"
      ],
      "metadata": {
        "colab": {
          "base_uri": "https://localhost:8080/"
        },
        "id": "2TQOR7obCNw3",
        "outputId": "c6f8e48d-f2bc-49db-9602-dc57212a4f94"
      },
      "execution_count": null,
      "outputs": [
        {
          "output_type": "execute_result",
          "data": {
            "text/plain": [
              "{'q': ['붉은달 푸른해'], 'searchGnbYn': ['Y'], 'kkoSpl': ['Y'], 'mwkLogType': ['T']}"
            ]
          },
          "metadata": {},
          "execution_count": 26
        }
      ]
    },
    {
      "cell_type": "code",
      "source": [
        "res=requests.get(ost_test_url)"
      ],
      "metadata": {
        "id": "AsJzsVsgGNH8"
      },
      "execution_count": null,
      "outputs": []
    },
    {
      "cell_type": "code",
      "source": [
        "html=res.text\n",
        "soup=BeautifulSoup(html, 'lxml')"
      ],
      "metadata": {
        "id": "B3Rku_V8LxQf"
      },
      "execution_count": null,
      "outputs": []
    },
    {
      "cell_type": "code",
      "source": [
        "like_list=soup.find('span', attrs={'class':'cnt'})\n",
        "\n",
        "like_list"
      ],
      "metadata": {
        "id": "WaQ9u0i1P_nS"
      },
      "execution_count": null,
      "outputs": []
    },
    {
      "cell_type": "markdown",
      "source": [
        "데이터 핸들링"
      ],
      "metadata": {
        "id": "r301JU0xNHng"
      }
    },
    {
      "cell_type": "code",
      "source": [
        "# pandas  라이브러리 호출출\n",
        "import pandas as pd"
      ],
      "metadata": {
        "id": "ZTDQyHjRNMQO"
      },
      "execution_count": null,
      "outputs": []
    },
    {
      "cell_type": "code",
      "source": [],
      "metadata": {
        "id": "37SYyz8nNXIG"
      },
      "execution_count": null,
      "outputs": []
    }
  ]
}